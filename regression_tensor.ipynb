{
 "cells": [
  {
   "cell_type": "code",
   "execution_count": 3,
   "metadata": {},
   "outputs": [
    {
     "name": "stdout",
     "output_type": "stream",
     "text": [
      "1.13.1\n"
     ]
    }
   ],
   "source": [
    "from __future__ import absolute_import, division, print_function\n",
    "\n",
    "import pathlib\n",
    "\n",
    "import matplotlib.pyplot as plt\n",
    "import pandas as pd\n",
    "import numpy as np\n",
    "import scipy.io as sio\n",
    "\n",
    "import tensorflow as tf\n",
    "from tensorflow import keras\n",
    "from tensorflow.keras import layers\n",
    "from sklearn.model_selection import train_test_split\n",
    "from scipy import stats\n",
    "\n",
    "print(tf.__version__)\n",
    "%load_ext autoreload"
   ]
  },
  {
   "cell_type": "code",
   "execution_count": 4,
   "metadata": {},
   "outputs": [],
   "source": [
    "def data_loader_pathloss(dataset):\n",
    "    mat_contents = np.array(sio.loadmat(dataset)['temp1'])\n",
    "    # print(mat_contents.shape)\n",
    "\n",
    "    d = mat_contents[:,0]\n",
    "    p = mat_contents[:,1]\n",
    "    # print(d,p)\n",
    "\n",
    "    X = np.log10(d)\n",
    "    Y = p\n",
    "\n",
    "    # X = X.reshape((X.shape[0], 1))\n",
    "\n",
    "    X_train, X_val, y_train, y_val = train_test_split(X,Y,test_size=0.2, shuffle=True)\n",
    "    X_val, X_test, y_val, y_test = train_test_split(X_val,y_val,test_size=0.5, shuffle=True)\n",
    "\n",
    "    df_train = pd.DataFrame({'X_train':X_train, 'y_train':y_train}).sort_values(by=['X_train'])\n",
    "    df_val = pd.DataFrame({'X_val':X_val, 'y_val':y_val}).sort_values(by=['X_val'])\n",
    "    df_test = pd.DataFrame({'X_test':X_test, 'y_test':y_test}).sort_values(by=['X_test'])\n",
    "\n",
    "    X_train = np.array(df_train['X_train'])\n",
    "    y_train = np.array(df_train['y_train'])\n",
    "\n",
    "    X_val = np.array(df_val['X_val'])\n",
    "    y_val = np.array(df_val['y_val'])\n",
    "\n",
    "    X_test = np.array(df_test['X_test'])\n",
    "    y_test = np.array(df_test['y_test'])\n",
    "\n",
    "    return X_train.reshape(-1, 1), y_train, X_val.reshape(-1, 1), y_val, X_test.reshape(-1, 1), y_test"
   ]
  },
  {
   "cell_type": "code",
   "execution_count": 5,
   "metadata": {},
   "outputs": [
    {
     "name": "stdout",
     "output_type": "stream",
     "text": [
      "PLdata_bh_34-train distribution: number of data = 4591 mean = 2.4129, variance = 0.0520, skew = -1.2028, kurtosis = 0.6793\n",
      "PLdata_bh_34-val distribution: number of data = 574 mean = 2.4032, variance = 0.0577, skew = -1.1405, kurtosis = 0.3025\n",
      "PLdata_bh_34-test distribution: number of data = 574 mean = 2.4189, variance = 0.0492, skew = -1.2683, kurtosis = 0.9375\n",
      "----------------------------------------------------------------------------------------------------\n",
      "PLdata_bh_53-train distribution: number of data = 4760 mean = 2.4132, variance = 0.0505, skew = -1.2304, kurtosis = 0.7785\n",
      "PLdata_bh_53-val distribution: number of data = 595 mean = 2.4268, variance = 0.0433, skew = -1.2709, kurtosis = 1.0125\n",
      "PLdata_bh_53-test distribution: number of data = 596 mean = 2.4226, variance = 0.0476, skew = -1.2951, kurtosis = 0.9616\n",
      "----------------------------------------------------------------------------------------------------\n",
      "PLdata_bh_64-train distribution: number of data = 4524 mean = 2.4138, variance = 0.0530, skew = -1.2576, kurtosis = 0.7765\n",
      "PLdata_bh_64-val distribution: number of data = 566 mean = 2.4011, variance = 0.0623, skew = -1.2199, kurtosis = 0.4503\n",
      "PLdata_bh_64-test distribution: number of data = 566 mean = 2.4165, variance = 0.0564, skew = -1.3294, kurtosis = 1.0175\n",
      "----------------------------------------------------------------------------------------------------\n",
      "PLdata_ma_34-train distribution: number of data = 3504 mean = 2.7167, variance = 0.1085, skew = -1.3288, kurtosis = 1.1079\n",
      "PLdata_ma_34-val distribution: number of data = 438 mean = 2.7423, variance = 0.0940, skew = -1.4184, kurtosis = 1.5274\n",
      "PLdata_ma_34-test distribution: number of data = 438 mean = 2.7228, variance = 0.1158, skew = -1.5295, kurtosis = 1.6892\n",
      "----------------------------------------------------------------------------------------------------\n",
      "PLdata_ma_53-train distribution: number of data = 3853 mean = 2.7053, variance = 0.1200, skew = -1.3746, kurtosis = 1.1098\n",
      "PLdata_ma_53-val distribution: number of data = 482 mean = 2.7033, variance = 0.1229, skew = -1.3442, kurtosis = 0.9243\n",
      "PLdata_ma_53-test distribution: number of data = 482 mean = 2.7110, variance = 0.1175, skew = -1.4535, kurtosis = 1.4584\n",
      "----------------------------------------------------------------------------------------------------\n",
      "PLdata_ma_64-train distribution: number of data = 3723 mean = 2.7255, variance = 0.1090, skew = -1.4046, kurtosis = 1.2133\n",
      "PLdata_ma_64-val distribution: number of data = 465 mean = 2.6948, variance = 0.1192, skew = -1.2084, kurtosis = 0.5126\n",
      "PLdata_ma_64-test distribution: number of data = 466 mean = 2.7402, variance = 0.0938, skew = -1.4825, kurtosis = 1.7834\n",
      "----------------------------------------------------------------------------------------------------\n"
     ]
    }
   ],
   "source": [
    "%autoreload\n",
    "\n",
    "sstr = '%-14s number of data = %d mean = %6.4f, variance = %6.4f, skew = %6.4f, kurtosis = %6.4f'\n",
    "\n",
    "X_bh_34_train, y_bh_34_train, X_bh_34_val, y_bh_34_val, X_bh_34_test, y_bh_34_test = data_loader_pathloss(\"data/PLdata_bh_34.mat\")\n",
    "n, (smin, smax), sm, sv, ss, sk = stats.describe(X_bh_34_train)\n",
    "print(sstr % ('PLdata_bh_34-train distribution:', n, sm, sv, ss, sk))\n",
    "n, (smin, smax), sm, sv, ss, sk = stats.describe(X_bh_34_val)\n",
    "print(sstr % ('PLdata_bh_34-val distribution:', n, sm, sv, ss, sk))\n",
    "n, (smin, smax), sm, sv, ss, sk = stats.describe(X_bh_34_test)\n",
    "print(sstr % ('PLdata_bh_34-test distribution:', n, sm, sv, ss, sk))\n",
    "print(\"----------------------------------------------------------------------------------------------------\")\n",
    "X_bh_53_train, y_bh_53_train, X_bh_53_val, y_bh_53_val, X_bh_53_test, y_bh_53_test = data_loader_pathloss(\"data/PLdata_bh_53.mat\")\n",
    "n, (smin, smax), sm, sv, ss, sk = stats.describe(X_bh_53_train)\n",
    "print(sstr % ('PLdata_bh_53-train distribution:', n, sm, sv, ss, sk))\n",
    "n, (smin, smax), sm, sv, ss, sk = stats.describe(X_bh_53_val)\n",
    "print(sstr % ('PLdata_bh_53-val distribution:', n, sm, sv, ss, sk))\n",
    "n, (smin, smax), sm, sv, ss, sk = stats.describe(X_bh_53_test)\n",
    "print(sstr % ('PLdata_bh_53-test distribution:', n, sm, sv, ss, sk))\n",
    "print(\"----------------------------------------------------------------------------------------------------\")\n",
    "\n",
    "X_bh_64_train, y_bh_64_train, X_bh_64_val, y_bh_64_val, X_bh_64_test, y_bh_64_test = data_loader_pathloss(\"data/PLdata_bh_64.mat\")\n",
    "n, (smin, smax), sm, sv, ss, sk = stats.describe(X_bh_64_train)\n",
    "print(sstr % ('PLdata_bh_64-train distribution:', n, sm, sv, ss, sk))\n",
    "n, (smin, smax), sm, sv, ss, sk = stats.describe(X_bh_64_val)\n",
    "print(sstr % ('PLdata_bh_64-val distribution:', n, sm, sv, ss, sk))\n",
    "n, (smin, smax), sm, sv, ss, sk = stats.describe(X_bh_64_test)\n",
    "print(sstr % ('PLdata_bh_64-test distribution:', n, sm, sv, ss, sk))\n",
    "print(\"----------------------------------------------------------------------------------------------------\")\n",
    "\n",
    "X_ma_34_train, y_ma_34_train, X_ma_34_val, y_ma_34_val, X_ma_34_test, y_ma_34_test = data_loader_pathloss(\"data/PLdata_ma_34.mat\")\n",
    "n, (smin, smax), sm, sv, ss, sk = stats.describe(X_ma_34_train)\n",
    "print(sstr % ('PLdata_ma_34-train distribution:', n, sm, sv, ss, sk))\n",
    "n, (smin, smax), sm, sv, ss, sk = stats.describe(X_ma_34_val)\n",
    "print(sstr % ('PLdata_ma_34-val distribution:', n, sm, sv, ss, sk))\n",
    "n, (smin, smax), sm, sv, ss, sk = stats.describe(X_ma_34_test)\n",
    "print(sstr % ('PLdata_ma_34-test distribution:', n, sm, sv, ss, sk))\n",
    "print(\"----------------------------------------------------------------------------------------------------\")\n",
    "\n",
    "X_ma_53_train, y_ma_53_train, X_ma_53_val, y_ma_53_val, X_ma_53_test, y_ma_53_test = data_loader_pathloss(\"data/PLdata_ma_53.mat\")\n",
    "n, (smin, smax), sm, sv, ss, sk = stats.describe(X_ma_53_train)\n",
    "print(sstr % ('PLdata_ma_53-train distribution:', n, sm, sv, ss, sk))\n",
    "n, (smin, smax), sm, sv, ss, sk = stats.describe(X_ma_53_val)\n",
    "print(sstr % ('PLdata_ma_53-val distribution:', n, sm, sv, ss, sk))\n",
    "n, (smin, smax), sm, sv, ss, sk = stats.describe(X_ma_53_test)\n",
    "print(sstr % ('PLdata_ma_53-test distribution:', n, sm, sv, ss, sk))\n",
    "print(\"----------------------------------------------------------------------------------------------------\")\n",
    "\n",
    "X_ma_64_train, y_ma_64_train, X_ma_64_val, y_ma_64_val, X_ma_64_test, y_ma_64_test = data_loader_pathloss(\"data/PLdata_ma_64.mat\")\n",
    "n, (smin, smax), sm, sv, ss, sk = stats.describe(X_ma_64_train)\n",
    "print(sstr % ('PLdata_ma_64-train distribution:', n, sm, sv, ss, sk))\n",
    "n, (smin, smax), sm, sv, ss, sk = stats.describe(X_ma_64_val)\n",
    "print(sstr % ('PLdata_ma_64-val distribution:', n, sm, sv, ss, sk))\n",
    "n, (smin, smax), sm, sv, ss, sk = stats.describe(X_ma_64_test)\n",
    "print(sstr % ('PLdata_ma_64-test distribution:', n, sm, sv, ss, sk))\n",
    "print(\"----------------------------------------------------------------------------------------------------\")\n"
   ]
  },
  {
   "cell_type": "code",
   "execution_count": 55,
   "metadata": {},
   "outputs": [],
   "source": [
    "def build_model():\n",
    "  model = keras.Sequential([\n",
    "    layers.Dense(61, activation=tf.nn.sigmoid, input_shape=[len(X_bh_34_train[0])]),   \n",
    "    layers.Dense(61, activation=tf.nn.sigmoid),   \n",
    "    layers.Dense(1)    \n",
    "  ])\n",
    "\n",
    "  optimizer = tf.keras.optimizers.Adam(0.001)\n",
    "\n",
    "  model.compile(loss='mean_squared_error',\n",
    "                optimizer=optimizer,\n",
    "                metrics=['mean_squared_error'])\n",
    "  return model"
   ]
  },
  {
   "cell_type": "code",
   "execution_count": 56,
   "metadata": {},
   "outputs": [],
   "source": [
    "model = build_model()"
   ]
  },
  {
   "cell_type": "code",
   "execution_count": 57,
   "metadata": {},
   "outputs": [
    {
     "name": "stdout",
     "output_type": "stream",
     "text": [
      "_________________________________________________________________\n",
      "Layer (type)                 Output Shape              Param #   \n",
      "=================================================================\n",
      "dense_55 (Dense)             (None, 61)                122       \n",
      "_________________________________________________________________\n",
      "dense_56 (Dense)             (None, 61)                3782      \n",
      "_________________________________________________________________\n",
      "dense_57 (Dense)             (None, 1)                 62        \n",
      "=================================================================\n",
      "Total params: 3,966\n",
      "Trainable params: 3,966\n",
      "Non-trainable params: 0\n",
      "_________________________________________________________________\n"
     ]
    }
   ],
   "source": [
    "model.summary()"
   ]
  },
  {
   "cell_type": "code",
   "execution_count": 58,
   "metadata": {},
   "outputs": [
    {
     "data": {
      "text/plain": [
       "array([[-0.5351137 ],\n",
       "       [-0.5351213 ],\n",
       "       [-0.5351224 ],\n",
       "       ...,\n",
       "       [-0.54762876],\n",
       "       [-0.54762924],\n",
       "       [-0.5476298 ]], dtype=float32)"
      ]
     },
     "execution_count": 58,
     "metadata": {},
     "output_type": "execute_result"
    }
   ],
   "source": [
    "example_result = model.predict(X_bh_34_train)\n",
    "example_result"
   ]
  },
  {
   "cell_type": "code",
   "execution_count": 59,
   "metadata": {},
   "outputs": [
    {
     "name": "stdout",
     "output_type": "stream",
     "text": [
      "\n",
      "....................................................................................................\n",
      "....................................................................................................\n",
      "....................................................................................................\n",
      "....................................................................................................\n",
      "....................................................................................................\n",
      "....................................................................................................\n",
      "....................................................................................................\n",
      "....................................................................................................\n",
      "....................................................................................................\n",
      "...................................................................................................."
     ]
    }
   ],
   "source": [
    "# Display training progress by printing a single dot for each completed epoch\n",
    "class PrintDot(keras.callbacks.Callback):\n",
    "  def on_epoch_end(self, epoch, logs):\n",
    "    if epoch % 100 == 0: print('')\n",
    "    print('.', end='')\n",
    "\n",
    "EPOCHS = 1000\n",
    "\n",
    "history = model.fit(\n",
    "  X_bh_34_train, y_bh_34_train,\n",
    "  epochs=EPOCHS, validation_split = 0.2, verbose=0,\n",
    "  callbacks=[PrintDot()])"
   ]
  },
  {
   "cell_type": "code",
   "execution_count": 60,
   "metadata": {},
   "outputs": [
    {
     "data": {
      "text/html": [
       "<div>\n",
       "<style scoped>\n",
       "    .dataframe tbody tr th:only-of-type {\n",
       "        vertical-align: middle;\n",
       "    }\n",
       "\n",
       "    .dataframe tbody tr th {\n",
       "        vertical-align: top;\n",
       "    }\n",
       "\n",
       "    .dataframe thead th {\n",
       "        text-align: right;\n",
       "    }\n",
       "</style>\n",
       "<table border=\"1\" class=\"dataframe\">\n",
       "  <thead>\n",
       "    <tr style=\"text-align: right;\">\n",
       "      <th></th>\n",
       "      <th>loss</th>\n",
       "      <th>mean_squared_error</th>\n",
       "      <th>val_loss</th>\n",
       "      <th>val_mean_squared_error</th>\n",
       "      <th>epoch</th>\n",
       "    </tr>\n",
       "  </thead>\n",
       "  <tbody>\n",
       "    <tr>\n",
       "      <th>995</th>\n",
       "      <td>52.044571</td>\n",
       "      <td>52.044563</td>\n",
       "      <td>40.076923</td>\n",
       "      <td>40.076920</td>\n",
       "      <td>995</td>\n",
       "    </tr>\n",
       "    <tr>\n",
       "      <th>996</th>\n",
       "      <td>52.074983</td>\n",
       "      <td>52.074982</td>\n",
       "      <td>40.426827</td>\n",
       "      <td>40.426830</td>\n",
       "      <td>996</td>\n",
       "    </tr>\n",
       "    <tr>\n",
       "      <th>997</th>\n",
       "      <td>51.885894</td>\n",
       "      <td>51.885906</td>\n",
       "      <td>38.110316</td>\n",
       "      <td>38.110321</td>\n",
       "      <td>997</td>\n",
       "    </tr>\n",
       "    <tr>\n",
       "      <th>998</th>\n",
       "      <td>51.989906</td>\n",
       "      <td>51.989902</td>\n",
       "      <td>37.869838</td>\n",
       "      <td>37.869835</td>\n",
       "      <td>998</td>\n",
       "    </tr>\n",
       "    <tr>\n",
       "      <th>999</th>\n",
       "      <td>51.887754</td>\n",
       "      <td>51.887772</td>\n",
       "      <td>39.108436</td>\n",
       "      <td>39.108437</td>\n",
       "      <td>999</td>\n",
       "    </tr>\n",
       "  </tbody>\n",
       "</table>\n",
       "</div>"
      ],
      "text/plain": [
       "          loss  mean_squared_error   val_loss  val_mean_squared_error  epoch\n",
       "995  52.044571           52.044563  40.076923               40.076920    995\n",
       "996  52.074983           52.074982  40.426827               40.426830    996\n",
       "997  51.885894           51.885906  38.110316               38.110321    997\n",
       "998  51.989906           51.989902  37.869838               37.869835    998\n",
       "999  51.887754           51.887772  39.108436               39.108437    999"
      ]
     },
     "execution_count": 60,
     "metadata": {},
     "output_type": "execute_result"
    }
   ],
   "source": [
    "hist = pd.DataFrame(history.history)\n",
    "hist['epoch'] = history.epoch\n",
    "hist.tail()"
   ]
  },
  {
   "cell_type": "code",
   "execution_count": 61,
   "metadata": {},
   "outputs": [
    {
     "data": {
      "image/png": "[encoded data removed]",
      "text/plain": [
       "<Figure size 432x288 with 1 Axes>"
      ]
     },
     "metadata": {},
     "output_type": "display_data"
    }
   ],
   "source": [
    "def plot_history(history):\n",
    "  hist = pd.DataFrame(history.history)\n",
    "  hist['epoch'] = history.epoch\n",
    "  \n",
    "  plt.figure()\n",
    "  plt.xlabel('Epoch')\n",
    "  plt.ylabel('Mean Square Error [$MPG^2$]')\n",
    "  plt.plot(hist['epoch'], hist['mean_squared_error'],\n",
    "           label='Train Error')\n",
    "  plt.plot(hist['epoch'], hist['val_mean_squared_error'],\n",
    "           label = 'Val Error')\n",
    "  plt.legend()\n",
    "  plt.show()\n",
    "\n",
    "\n",
    "plot_history(history)"
   ]
  },
  {
   "cell_type": "code",
   "execution_count": 62,
   "metadata": {},
   "outputs": [
    {
     "name": "stdout",
     "output_type": "stream",
     "text": [
      "Testing set Mean Square Error: 7.022137 dB\n",
      "Testing set Mean Square Error: 6.938644 dB\n",
      "Testing set Mean Square Error: 7.319573 dB\n"
     ]
    }
   ],
   "source": [
    "loss, mse = model.evaluate(X_bh_34_train, y_bh_34_train, verbose=0)\n",
    "print(\"Testing set Mean Square Error: {:5.6f} dB\".format(np.sqrt(mse)))\n",
    "loss, mse = model.evaluate(X_bh_34_val, y_bh_34_val, verbose=0)\n",
    "print(\"Testing set Mean Square Error: {:5.6f} dB\".format(np.sqrt(mse)))\n",
    "loss, mse = model.evaluate(X_bh_34_test, y_bh_34_test, verbose=0)\n",
    "print(\"Testing set Mean Square Error: {:5.6f} dB\".format(np.sqrt(mse)))"
   ]
  },
  {
   "cell_type": "code",
   "execution_count": 63,
   "metadata": {},
   "outputs": [
    {
     "data": {
      "image/png": "[encoded data removed]",
      "text/plain": [
       "<Figure size 864x360 with 1 Axes>"
      ]
     },
     "metadata": {},
     "output_type": "display_data"
    }
   ],
   "source": [
    "test_predictions = model.predict(X_bh_34_train).flatten()\n",
    "\n",
    "plt.figure(figsize=(12, 5))\n",
    "ax = plt.axes()\n",
    "ax.scatter(X_bh_34_train, y_bh_34_train)\n",
    "ax.plot(X_bh_34_train, test_predictions, color=\"red\")\n",
    "ax.set_xlabel('log distance (m)')\n",
    "ax.set_ylabel('pathloss (dB)')\n",
    "\n",
    "plt.show()"
   ]
  },
  {
   "cell_type": "code",
   "execution_count": 104,
   "metadata": {},
   "outputs": [
    {
     "data": {
      "image/png": "[encoded data removed]",
      "text/plain": [
       "<Figure size 432x288 with 1 Axes>"
      ]
     },
     "metadata": {},
     "output_type": "display_data"
    }
   ],
   "source": [
    "error = test_predictions - y_bh_34_train\n",
    "plt.hist(error, bins = 25)\n",
    "plt.xlabel(\"Prediction Error [dB]\")\n",
    "_ = plt.ylabel(\"Count\")"
   ]
  },
  {
   "cell_type": "code",
   "execution_count": null,
   "metadata": {},
   "outputs": [],
   "source": []
  }
 ],
 "metadata": {
  "kernelspec": {
   "display_name": "Python 3",
   "language": "python",
   "name": "python3"
  },
  "language_info": {
   "codemirror_mode": {
    "name": "ipython",
    "version": 3
   },
   "file_extension": ".py",
   "mimetype": "text/x-python",
   "name": "python",
   "nbconvert_exporter": "python",
   "pygments_lexer": "ipython3",
   "version": "3.5.3"
  }
 },
 "nbformat": 4,
 "nbformat_minor": 2
}
