{
 "cells": [
  {
   "cell_type": "code",
   "execution_count": 1,
   "metadata": {},
   "outputs": [],
   "source": [
    "%load_ext autoreload\n",
    "%autoreload\n",
    "\n",
    "import numpy as np\n",
    "import pandas as pd\n",
    "import pickle\n",
    "\n",
    "from sklearn.model_selection import train_test_split\n",
    "from sklearn.model_selection import KFold, GroupKFold\n",
    "from sklearn.linear_model import LinearRegression\n",
    "from sklearn.linear_model import Ridge\n",
    "from sklearn.preprocessing import PolynomialFeatures\n",
    "from sklearn.preprocessing import StandardScaler\n",
    "\n",
    "from sklearn.metrics import mean_absolute_error\n",
    "from sklearn.metrics import mean_squared_error\n",
    "from sklearn.metrics import mean_squared_log_error\n",
    "from sklearn.metrics import median_absolute_error\n",
    "from sklearn.metrics import r2_score\n",
    "\n",
    "from sklearn.pipeline import Pipeline\n",
    "import matplotlib.pyplot as plt\n",
    "import seaborn as sns\n",
    "import random\n",
    "\n",
    "from equationmodel_ann import ann_mlp_regression, prediction_rmse_error, ann_linear_compare_graph, errorDist\n",
    "from util import ADD_data_loader, combineDF, filteringDF, getFreeSpacePathLoss, makeXforGraphWithGroupingFrequency,\\\n",
    "                makeXforGraph, inverseScale, samplingData, normalizeData,train_2d_graph, train_3d_graph\n",
    "\n",
    "def mean_absolute_percentage_error(y_true, y_pred): \n",
    "    y_true, y_pred = np.array(y_true), np.array(y_pred)\n",
    "    return np.mean(np.abs((y_true - y_pred) / y_true)) * 100\n",
    "\n",
    "desired_width=620\n",
    "pd.set_option('display.width', desired_width)\n",
    "pd.set_option('display.max_columns',30)\n",
    "pd.options.display.float_format = \"{:.2f}\".format"
   ]
  },
  {
   "cell_type": "code",
   "execution_count": 2,
   "metadata": {},
   "outputs": [
    {
     "name": "stdout",
     "output_type": "stream",
     "text": [
      "ADD data preprocessing\n",
      "../data/PLdata_paju_wt_400.csv: distance filtering(before):(110440, 4)\n",
      "../data/PLdata_paju_wt_400.csv: distance filtering(after):(22532, 4)\n",
      "../data/PLdata_paju_wt_1399.csv: distance filtering(before):(110358, 4)\n",
      "../data/PLdata_paju_wt_1399.csv: distance filtering(after):(22518, 4)\n",
      "../data/PLdata_paju_wt_2249.csv: distance filtering(before):(110246, 4)\n",
      "../data/PLdata_paju_wt_2249.csv: distance filtering(after):(22505, 4)\n",
      "          type  distance  pathloss  heightTM  season  frequency  heightTB  heightB  heightM\n",
      "type 1719    m      1.00    100.29      0.02       0        400       100        7        2\n",
      "     1720    m      1.00    124.49      0.04       0        400       100        7        2\n",
      "     1721    m      1.00     92.21      0.03       0        400       100        7        2\n",
      "     1722    m      1.00     93.33      0.01       0        400       100        7        2\n",
      "     1723    m      1.00    100.66      0.02       0        400       100        7        2\n",
      "Combined data set: (67555, 9)\n",
      "type filtering(before):(67555, 9)\n",
      "type filtering(after):(50752, 9)\n",
      "Dataframe before add new terms: (50752, 9)\n",
      "Dataframe after add constant feature: (50752, 20)\n",
      "winter data: (50752, 20)\n",
      "\n",
      "ADD data preprocessing\n",
      "../data/PLdata_paju_sp_1399.csv: distance filtering(before):(90501, 4)\n",
      "../data/PLdata_paju_sp_1399.csv: distance filtering(after):(16534, 4)\n",
      "../data/PLdata_paju_sp_2249.csv: distance filtering(before):(90428, 4)\n",
      "../data/PLdata_paju_sp_2249.csv: distance filtering(after):(16534, 4)\n",
      "../data/PLdata_paju_sp_400.csv: distance filtering(before):(90557, 4)\n",
      "../data/PLdata_paju_sp_400.csv: distance filtering(after):(16534, 4)\n",
      "         type  distance  pathloss  heightTM  season  frequency  heightTB  heightB  heightM\n",
      "type 297    m      1.00    101.38      0.02    0.50       1399       100        7        2\n",
      "     298    m      1.00    100.69      0.02    0.50       1399       100        7        2\n",
      "     299    m      1.00     98.91      0.02    0.50       1399       100        7        2\n",
      "     300    m      1.00    104.47      0.02    0.50       1399       100        7        2\n",
      "     301    m      1.01    112.83      0.02    0.50       1399       100        7        2\n",
      "Combined data set: (49602, 9)\n",
      "type filtering(before):(49602, 9)\n",
      "type filtering(after):(24840, 9)\n",
      "Dataframe before add new terms: (24840, 9)\n",
      "Dataframe after add constant feature: (24840, 20)\n",
      "spring data: (24840, 20)\n",
      "\n",
      "ADD data preprocessing\n",
      "../data/PLdata_paju_sm_2249.csv: distance filtering(before):(109754, 4)\n",
      "../data/PLdata_paju_sm_2249.csv: distance filtering(after):(26409, 4)\n",
      "../data/PLdata_paju_sm_1399.csv: distance filtering(before):(109891, 4)\n",
      "../data/PLdata_paju_sm_1399.csv: distance filtering(after):(26425, 4)\n",
      "../data/PLdata_paju_sm_400.csv: distance filtering(before):(109969, 4)\n",
      "../data/PLdata_paju_sm_400.csv: distance filtering(after):(26440, 4)\n",
      "         type  distance  pathloss  heightTM  season  frequency  heightTB  heightB  heightM\n",
      "type 204    m      1.02    104.12      0.02    1.00       2249       100        7        2\n",
      "     205    m      1.02    103.31      0.02    1.00       2249       100        7        2\n",
      "     206    m      1.02    106.56      0.02    1.00       2249       100        7        2\n",
      "     207    m      1.03    105.55      0.02    1.00       2249       100        7        2\n",
      "     208    m      1.03    104.04      0.02    1.00       2249       100        7        2\n",
      "Combined data set: (79274, 9)\n",
      "type filtering(before):(79274, 9)\n",
      "type filtering(after):(62336, 9)\n",
      "Dataframe before add new terms: (62336, 9)\n",
      "Dataframe after add constant feature: (62336, 20)\n",
      "summer data: (62336, 20)\n",
      "\n",
      "antenna_b height filtering-before(data count): (137928, 20)\n",
      "antenna_b height filtering-after(data count): (125944, 20)\n",
      "freespace pathloss filtering-before(data count): (125944, 20)\n",
      "freespace pathloss filtering-after(data count): (123134, 20)\n"
     ]
    }
   ],
   "source": [
    "%autoreload\n",
    "\n",
    "wt_fileList = {'../data/PLdata_paju_wt_400.csv':[('season', 0), ('frequency', 400), ('heightTB',100), ('heightB',7), ('heightM',2)],\n",
    "            '../data/PLdata_paju_wt_1399.csv':[('season', 0), ('frequency', 1399), ('heightTB',100), ('heightB',7), ('heightM',2)],\n",
    "            '../data/PLdata_paju_wt_2249.csv':[('season', 0), ('frequency', 2249), ('heightTB',100), ('heightB',7), ('heightM',2)]}\n",
    "sp_fileList = {'../data/PLdata_paju_sp_400.csv':[('season', 0.5), ('frequency', 400), ('heightTB',100), ('heightB',7), ('heightM',2)],\n",
    "            '../data/PLdata_paju_sp_1399.csv':[('season', 0.5), ('frequency', 1399), ('heightTB',100), ('heightB',7), ('heightM',2)],\n",
    "            '../data/PLdata_paju_sp_2249.csv':[('season', 0.5), ('frequency', 2249), ('heightTB',100), ('heightB',7), ('heightM',2)]}\n",
    "sm_fileList = {'../data/PLdata_paju_sm_400.csv':[('season', 1.0), ('frequency', 400), ('heightTB',100), ('heightB',7), ('heightM',2)],\n",
    "            '../data/PLdata_paju_sm_1399.csv':[('season', 1.0), ('frequency', 1399), ('heightTB',100), ('heightB',7), ('heightM',2)],\n",
    "            '../data/PLdata_paju_sm_2249.csv':[('season', 1.0), ('frequency', 2249), ('heightTB',100), ('heightB',7), ('heightM',2)]}\n",
    "addWt = ADD_data_loader(wt_fileList)\n",
    "print(\"winter data:\",addWt.shape)\n",
    "print(\"\")\n",
    "addSp = ADD_data_loader(sp_fileList)\n",
    "print(\"spring data:\",addSp.shape)\n",
    "print(\"\")\n",
    "addSm = ADD_data_loader(sm_fileList)\n",
    "print(\"summer data:\",addSm.shape)\n",
    "print(\"\")\n",
    "\n",
    "# print(addIksan.describe())\n",
    "# print(addNonsan.describe())\n",
    "# print(addPaju.describe())\n",
    "\n",
    "addData = combineDF([addWt, addSp, addSm])\n",
    "print(\"antenna_b height filtering-before(data count):\",addData.shape)\n",
    "addData = filteringDF(addData, 'heightTM', [10,100])\n",
    "print(\"antenna_b height filtering-after(data count):\",addData.shape)\n",
    "\n",
    "print(\"freespace pathloss filtering-before(data count):\",addData.shape)\n",
    "addData['freePathloss'] = getFreeSpacePathLoss(addData['distance'],addData['frequency'])\n",
    "addData = addData[addData['pathloss'] >= addData['freePathloss']]\n",
    "print(\"freespace pathloss filtering-after(data count):\",addData.shape)\n",
    "\n",
    "# print(\"ADD data sample:\\n\",addData.head())"
   ]
  },
  {
   "cell_type": "code",
   "execution_count": 3,
   "metadata": {},
   "outputs": [
    {
     "name": "stdout",
     "output_type": "stream",
     "text": [
      "sample size: 123\n",
      "sampleRatio: 0.001\n",
      "Average Test Error(RMSE): 22.19671733602862\n",
      "sample size: 12437\n"
     ]
    },
    {
     "name": "stderr",
     "output_type": "stream",
     "text": [
      "/usr/local/lib/python3.5/dist-packages/IPython/core/interactiveshell.py:2880: PerformanceWarning: indexing past lexsort depth may impact performance.\n",
      "  return runner(coro)\n"
     ]
    },
    {
     "name": "stdout",
     "output_type": "stream",
     "text": [
      "sampleRatio: 0.101\n",
      "Average Test Error(RMSE): 9.709607388373968\n",
      "sample size: 24750\n",
      "sampleRatio: 0.201\n",
      "Average Test Error(RMSE): 9.585106458226315\n",
      "sample size: 37063\n",
      "sampleRatio: 0.30100000000000005\n",
      "Average Test Error(RMSE): 9.566250163531404\n",
      "sample size: 49377\n",
      "sampleRatio: 0.401\n",
      "Average Test Error(RMSE): 9.565422653116206\n",
      "sample size: 61690\n",
      "sampleRatio: 0.501\n",
      "Average Test Error(RMSE): 9.549873452470129\n",
      "sample size: 74004\n",
      "sampleRatio: 0.6010000000000001\n",
      "Average Test Error(RMSE): 9.51840788527536\n",
      "sample size: 86317\n",
      "sampleRatio: 0.7010000000000001\n",
      "Average Test Error(RMSE): 9.523567402758847\n",
      "sample size: 98630\n",
      "sampleRatio: 0.801\n",
      "Average Test Error(RMSE): 9.516614340955979\n",
      "sample size: 110944\n",
      "sampleRatio: 0.901\n",
      "Average Test Error(RMSE): 9.447740677943447\n"
     ]
    }
   ],
   "source": [
    "%autoreload\n",
    "\n",
    "targetCols = ['logDistance', 'logFrequency', 'logExtendedHeightTratio', 'season', 'pathloss']\n",
    "xCols = ['logDistance', 'logFrequency', 'logExtendedHeightTratio', 'season',]\n",
    "yCols = 'pathloss'\n",
    "scale = \"manual\"\n",
    "stat = {}\n",
    "\n",
    "sampleRange = np.arange(0.001, 1.0, 0.1)\n",
    "for sampleRatio in sampleRange:\n",
    "    rmse_sum = 0\n",
    "\n",
    "    addDataSampled = samplingData(addData[targetCols], sampleRatio, None, prFlag = False)\n",
    "    # addDataSample.sort_values(by=['logDistance'])\n",
    "    print(\"sample size:\",addDataSampled['pathloss'].count())\n",
    "    addDataNorm, normalizer = normalizeData(addDataSampled[targetCols], addDataSampled[yCols], scaler = scale, prFlag = False)\n",
    "\n",
    "    X = np.array(addDataNorm[xCols])\n",
    "    Xorigin = np.array(addData[xCols]) \n",
    "    Y = np.array(addDataSampled[yCols])\n",
    "\n",
    "    kf = KFold(n_splits=5, shuffle=True)\n",
    "    bestTestError = 0\n",
    "    bestModel = None\n",
    "    i = 1\n",
    "\n",
    "    for train_index, test_index in kf.split(X):\n",
    "        X_train, X_test = X[train_index], X[test_index]\n",
    "        y_train, y_test = Y[train_index], Y[test_index]    \n",
    "        model = ann_mlp_regression((60,), activation='logistic', optimizer='lbfgs')\n",
    "        model.fit(X_train, y_train.flatten())\n",
    "\n",
    "        pred_test = model.predict(X_test)\n",
    "\n",
    "        rmse = np.sqrt(mean_squared_error(y_test, pred_test))\n",
    "        mae = mean_absolute_error(y_test, pred_test)\n",
    "        mape = mean_absolute_percentage_error(y_test, pred_test)\n",
    "        rmse = np.sqrt(mean_squared_error(y_test, pred_test))\n",
    "        r2 = r2_score(y_test, pred_test)\n",
    "#         print(\"#\"+str(i)+\" Error(RMSE)-train:{} / test:{}\".format(trainError,testError))     \n",
    "\n",
    "        rmse_sum += rmse\n",
    "\n",
    "        i+=1\n",
    "    avgRMSE = rmse_sum / 5\n",
    "    print(\"sampleRatio:\",sampleRatio)\n",
    "#     print(\"Worst Model:\",worstModel)\n",
    "    print(\"Average Test Error(RMSE):\",avgRMSE)\n",
    "    stat[sampleRatio] = avgRMSE"
   ]
  },
  {
   "cell_type": "code",
   "execution_count": 4,
   "metadata": {},
   "outputs": [
    {
     "name": "stdout",
     "output_type": "stream",
     "text": [
      "{0.101: 9.709607388373968, 0.201: 9.585106458226315, 0.801: 9.516614340955979, 0.001: 22.19671733602862, 0.401: 9.565422653116206, 0.7010000000000001: 9.523567402758847, 0.6010000000000001: 9.51840788527536, 0.501: 9.549873452470129, 0.30100000000000005: 9.566250163531404, 0.901: 9.447740677943447}\n"
     ]
    }
   ],
   "source": [
    "print(stat)"
   ]
  },
  {
   "cell_type": "code",
   "execution_count": 5,
   "metadata": {},
   "outputs": [
    {
     "name": "stdout",
     "output_type": "stream",
     "text": [
      "   sampleRatio  RMSE\n",
      "3         0.00 22.20\n",
      "0         0.10  9.71\n",
      "1         0.20  9.59\n",
      "8         0.30  9.57\n",
      "4         0.40  9.57\n",
      "7         0.50  9.55\n",
      "6         0.60  9.52\n",
      "5         0.70  9.52\n",
      "2         0.80  9.52\n",
      "9         0.90  9.45\n"
     ]
    },
    {
     "data": {
      "text/plain": [
       "<matplotlib.axes._subplots.AxesSubplot at 0x7f68e6571240>"
      ]
     },
     "execution_count": 5,
     "metadata": {},
     "output_type": "execute_result"
    },
    {
     "data": {
      "image/png": "[encoded data removed]",
      "text/plain": [
       "<Figure size 432x288 with 1 Axes>"
      ]
     },
     "metadata": {
      "needs_background": "light"
     },
     "output_type": "display_data"
    }
   ],
   "source": [
    "df = pd.DataFrame(list(stat.items()), columns=['sampleRatio','RMSE']).sort_values(by=['sampleRatio'])\n",
    "print(df)\n",
    "df.plot.line(x='sampleRatio', y='RMSE')"
   ]
  },
  {
   "cell_type": "code",
   "execution_count": 6,
   "metadata": {},
   "outputs": [
    {
     "name": "stdout",
     "output_type": "stream",
     "text": [
      "ADD data preprocessing\n",
      "../data/PLdata_nonsan_wt_400.csv: distance filtering(before):(114545, 4)\n",
      "../data/PLdata_nonsan_wt_400.csv: distance filtering(after):(10209, 4)\n",
      "../data/PLdata_nonsan_wt_2249.csv: distance filtering(before):(114341, 4)\n",
      "../data/PLdata_nonsan_wt_2249.csv: distance filtering(after):(10209, 4)\n",
      "../data/PLdata_nonsan_wt_1399.csv: distance filtering(before):(114455, 4)\n",
      "../data/PLdata_nonsan_wt_1399.csv: distance filtering(after):(10209, 4)\n",
      "         type  distance  pathloss  heightTM  season  frequency  heightTB  heightB  heightM\n",
      "type 416    m      1.01    111.36      0.02       0        400        30       15        2\n",
      "     417    m      1.01    118.40      0.02       0        400        30       15        2\n",
      "     418    m      1.01    112.88      0.02       0        400        30       15        2\n",
      "     419    m      1.02    110.68      0.02       0        400        30       15        2\n",
      "     420    m      1.03    109.04      0.02       0        400        30       15        2\n",
      "Combined data set: (30627, 9)\n",
      "type filtering(before):(30627, 9)\n",
      "type filtering(after):(23295, 9)\n",
      "Dataframe before add new terms: (23295, 9)\n",
      "Dataframe after add constant feature: (23295, 20)\n",
      "winter data: (23295, 20)\n",
      "\n",
      "ADD data preprocessing\n",
      "../data/PLdata_nonsan_sp_400.csv: distance filtering(before):(98432, 4)\n",
      "../data/PLdata_nonsan_sp_400.csv: distance filtering(after):(5816, 4)\n",
      "../data/PLdata_nonsan_sp_1399.csv: distance filtering(before):(98380, 4)\n",
      "../data/PLdata_nonsan_sp_1399.csv: distance filtering(after):(5805, 4)\n",
      "../data/PLdata_nonsan_sp_2249.csv: distance filtering(before):(98268, 4)\n",
      "../data/PLdata_nonsan_sp_2249.csv: distance filtering(after):(5787, 4)\n",
      "         type  distance  pathloss  heightTM  season  frequency  heightTB  heightB  heightM\n",
      "type 196    m      1.02    104.11      0.03    0.50        400        30       15        2\n",
      "     197    m      1.02    102.37      0.03    0.50        400        30       15        2\n",
      "     198    m      1.02    101.55      0.03    0.50        400        30       15        2\n",
      "     199    m      1.03    101.57      0.03    0.50        400        30       15        2\n",
      "     200    m      1.05    103.13      0.03    0.50        400        30       15        2\n",
      "Combined data set: (17408, 9)\n",
      "type filtering(before):(17408, 9)\n",
      "type filtering(after):(9833, 9)\n",
      "Dataframe before add new terms: (9833, 9)\n",
      "Dataframe after add constant feature: (9833, 20)\n",
      "spring data: (9833, 20)\n",
      "\n",
      "ADD data preprocessing\n",
      "../data/PLdata_nonsan_sm_400.csv: distance filtering(before):(112337, 4)\n",
      "../data/PLdata_nonsan_sm_400.csv: distance filtering(after):(8389, 4)\n",
      "../data/PLdata_nonsan_sm_1399.csv: distance filtering(before):(112219, 4)\n",
      "../data/PLdata_nonsan_sm_1399.csv: distance filtering(after):(8374, 4)\n",
      "../data/PLdata_nonsan_sm_2249.csv: distance filtering(before):(112079, 4)\n",
      "../data/PLdata_nonsan_sm_2249.csv: distance filtering(after):(8348, 4)\n",
      "         type  distance  pathloss  heightTM  season  frequency  heightTB  heightB  heightM\n",
      "type 524    m      1.01    102.56      0.02    1.00        400        30       15        2\n",
      "     525    m      1.01     88.48      0.02    1.00        400        30       15        2\n",
      "     526    m      1.03    121.03      0.02    1.00        400        30       15        2\n",
      "     527    m      1.03    115.78      0.02    1.00        400        30       15        2\n",
      "     528    m      1.04    112.35      0.02    1.00        400        30       15        2\n",
      "Combined data set: (25111, 9)\n",
      "type filtering(before):(25111, 9)\n",
      "type filtering(after):(17875, 9)\n",
      "Dataframe before add new terms: (17875, 9)\n",
      "Dataframe after add constant feature: (17875, 20)\n",
      "summer data: (17875, 20)\n",
      "\n",
      "antenna_b height filtering-before(data count): (51003, 20)\n",
      "antenna_b height filtering-after(data count): (46542, 20)\n",
      "freespace pathloss filtering-before(data count): (46542, 20)\n",
      "freespace pathloss filtering-after(data count): (46289, 20)\n"
     ]
    }
   ],
   "source": [
    "%autoreload\n",
    "\n",
    "wt_fileList = {'../data/PLdata_nonsan_wt_400.csv':[('season', 0), ('frequency', 400), ('heightTB',30), ('heightB',15), ('heightM',2)],\n",
    "            '../data/PLdata_nonsan_wt_1399.csv':[('season', 0), ('frequency', 1399), ('heightTB',30), ('heightB',15), ('heightM',2)],\n",
    "            '../data/PLdata_nonsan_wt_2249.csv':[('season', 0), ('frequency', 2249), ('heightTB',30), ('heightB',15), ('heightM',2)]}\n",
    "sp_fileList = {'../data/PLdata_nonsan_sp_400.csv':[('season', 0.5), ('frequency', 400), ('heightTB',30), ('heightB',15), ('heightM',2)],\n",
    "            '../data/PLdata_nonsan_sp_1399.csv':[('season', 0.5), ('frequency', 1399), ('heightTB',30), ('heightB',15), ('heightM',2)],\n",
    "            '../data/PLdata_nonsan_sp_2249.csv':[('season', 0.5), ('frequency', 2249), ('heightTB',30), ('heightB',15), ('heightM',2)]}\n",
    "sm_fileList = {'../data/PLdata_nonsan_sm_400.csv':[('season', 1.0), ('frequency', 400), ('heightTB',30), ('heightB',15), ('heightM',2)],\n",
    "            '../data/PLdata_nonsan_sm_1399.csv':[('season', 1.0), ('frequency', 1399), ('heightTB',30), ('heightB',15), ('heightM',2)],\n",
    "            '../data/PLdata_nonsan_sm_2249.csv':[('season', 1.0), ('frequency', 2249), ('heightTB',30), ('heightB',15), ('heightM',2)]}\n",
    "addWt = ADD_data_loader(wt_fileList)\n",
    "print(\"winter data:\",addWt.shape)\n",
    "print(\"\")\n",
    "addSp = ADD_data_loader(sp_fileList)\n",
    "print(\"spring data:\",addSp.shape)\n",
    "print(\"\")\n",
    "addSm = ADD_data_loader(sm_fileList)\n",
    "print(\"summer data:\",addSm.shape)\n",
    "print(\"\")\n",
    "\n",
    "# print(addIksan.describe())\n",
    "# print(addNonsan.describe())\n",
    "# print(addPaju.describe())\n",
    "\n",
    "addData = combineDF([addWt, addSp, addSm])\n",
    "print(\"antenna_b height filtering-before(data count):\",addData.shape)\n",
    "addData = filteringDF(addData, 'heightTM', [10,100])\n",
    "print(\"antenna_b height filtering-after(data count):\",addData.shape)\n",
    "\n",
    "print(\"freespace pathloss filtering-before(data count):\",addData.shape)\n",
    "addData['freePathloss'] = getFreeSpacePathLoss(addData['distance'],addData['frequency'])\n",
    "addData = addData[addData['pathloss'] >= addData['freePathloss']]\n",
    "print(\"freespace pathloss filtering-after(data count):\",addData.shape)\n",
    "\n",
    "# print(\"ADD data sample:\\n\",addData.head())"
   ]
  },
  {
   "cell_type": "code",
   "execution_count": 7,
   "metadata": {},
   "outputs": [
    {
     "name": "stdout",
     "output_type": "stream",
     "text": [
      "sample size: 46\n",
      "sampleRatio: 0.001\n",
      "Average Test Error(RMSE): 15.474354610922267\n",
      "sample size: 4675\n"
     ]
    },
    {
     "name": "stderr",
     "output_type": "stream",
     "text": [
      "/usr/local/lib/python3.5/dist-packages/IPython/core/interactiveshell.py:2880: PerformanceWarning: indexing past lexsort depth may impact performance.\n",
      "  return runner(coro)\n"
     ]
    },
    {
     "name": "stdout",
     "output_type": "stream",
     "text": [
      "sampleRatio: 0.101\n",
      "Average Test Error(RMSE): 7.609020910315991\n",
      "sample size: 9304\n",
      "sampleRatio: 0.201\n",
      "Average Test Error(RMSE): 7.499773667749733\n",
      "sample size: 13933\n",
      "sampleRatio: 0.30100000000000005\n",
      "Average Test Error(RMSE): 7.501138684987206\n",
      "sample size: 18562\n",
      "sampleRatio: 0.401\n",
      "Average Test Error(RMSE): 7.430263654269597\n",
      "sample size: 23191\n",
      "sampleRatio: 0.501\n",
      "Average Test Error(RMSE): 7.363490210566201\n",
      "sample size: 27820\n",
      "sampleRatio: 0.6010000000000001\n",
      "Average Test Error(RMSE): 7.44010803657315\n",
      "sample size: 32449\n",
      "sampleRatio: 0.7010000000000001\n",
      "Average Test Error(RMSE): 7.39022099268568\n",
      "sample size: 37077\n",
      "sampleRatio: 0.801\n",
      "Average Test Error(RMSE): 7.484259960677802\n",
      "sample size: 41706\n",
      "sampleRatio: 0.901\n",
      "Average Test Error(RMSE): 7.3888722745757125\n"
     ]
    }
   ],
   "source": [
    "%autoreload\n",
    "\n",
    "targetCols = ['logDistance', 'logFrequency', 'logExtendedHeightTratio', 'season', 'pathloss']\n",
    "xCols = ['logDistance', 'logFrequency', 'logExtendedHeightTratio', 'season',]\n",
    "yCols = 'pathloss'\n",
    "scale = \"manual\"\n",
    "stat = {}\n",
    "\n",
    "sampleRange = np.arange(0.001, 1.0, 0.1)\n",
    "for sampleRatio in sampleRange:\n",
    "    rmse_sum = 0\n",
    "\n",
    "    addDataSampled = samplingData(addData[targetCols], sampleRatio, None, prFlag = False)\n",
    "    # addDataSample.sort_values(by=['logDistance'])\n",
    "    print(\"sample size:\",addDataSampled['pathloss'].count())\n",
    "    addDataNorm, normalizer = normalizeData(addDataSampled[targetCols], addDataSampled[yCols], scaler = scale, prFlag = False)\n",
    "\n",
    "    X = np.array(addDataNorm[xCols])\n",
    "    Xorigin = np.array(addData[xCols]) \n",
    "    Y = np.array(addDataSampled[yCols])\n",
    "\n",
    "    kf = KFold(n_splits=5, shuffle=True)\n",
    "    bestTestError = 0\n",
    "    bestModel = None\n",
    "    i = 1\n",
    "\n",
    "    for train_index, test_index in kf.split(X):\n",
    "        X_train, X_test = X[train_index], X[test_index]\n",
    "        y_train, y_test = Y[train_index], Y[test_index]    \n",
    "        model = ann_mlp_regression((60,), activation='logistic', optimizer='lbfgs')\n",
    "        model.fit(X_train, y_train.flatten())\n",
    "\n",
    "        pred_test = model.predict(X_test)\n",
    "\n",
    "        rmse = np.sqrt(mean_squared_error(y_test, pred_test))\n",
    "        mae = mean_absolute_error(y_test, pred_test)\n",
    "        mape = mean_absolute_percentage_error(y_test, pred_test)\n",
    "        rmse = np.sqrt(mean_squared_error(y_test, pred_test))\n",
    "        r2 = r2_score(y_test, pred_test)\n",
    "#         print(\"#\"+str(i)+\" Error(RMSE)-train:{} / test:{}\".format(trainError,testError))     \n",
    "\n",
    "        rmse_sum += rmse\n",
    "\n",
    "        i+=1\n",
    "    avgRMSE = rmse_sum / 5\n",
    "    print(\"sampleRatio:\",sampleRatio)\n",
    "#     print(\"Worst Model:\",worstModel)\n",
    "    print(\"Average Test Error(RMSE):\",avgRMSE)\n",
    "    stat[sampleRatio] = avgRMSE"
   ]
  },
  {
   "cell_type": "code",
   "execution_count": 8,
   "metadata": {},
   "outputs": [
    {
     "name": "stdout",
     "output_type": "stream",
     "text": [
      "   sampleRatio  RMSE\n",
      "3         0.00 15.47\n",
      "0         0.10  7.61\n",
      "1         0.20  7.50\n",
      "8         0.30  7.50\n",
      "4         0.40  7.43\n",
      "7         0.50  7.36\n",
      "6         0.60  7.44\n",
      "5         0.70  7.39\n",
      "2         0.80  7.48\n",
      "9         0.90  7.39\n"
     ]
    },
    {
     "data": {
      "text/plain": [
       "<matplotlib.axes._subplots.AxesSubplot at 0x7f690b28c978>"
      ]
     },
     "execution_count": 8,
     "metadata": {},
     "output_type": "execute_result"
    },
    {
     "data": {
      "image/png": "[encoded data removed]",
      "text/plain": [
       "<Figure size 432x288 with 1 Axes>"
      ]
     },
     "metadata": {
      "needs_background": "light"
     },
     "output_type": "display_data"
    }
   ],
   "source": [
    "df = pd.DataFrame(list(stat.items()), columns=['sampleRatio','RMSE']).sort_values(by=['sampleRatio'])\n",
    "print(df)\n",
    "df.plot.line(x='sampleRatio', y='RMSE')"
   ]
  },
  {
   "cell_type": "code",
   "execution_count": 12,
   "metadata": {},
   "outputs": [
    {
     "name": "stdout",
     "output_type": "stream",
     "text": [
      "ADD data preprocessing\n",
      "../data/PLdata_iksan_wt_2249.csv: distance filtering(before):(108873, 4)\n",
      "../data/PLdata_iksan_wt_2249.csv: distance filtering(after):(10396, 4)\n",
      "../data/PLdata_iksan_wt_1399.csv: distance filtering(before):(109060, 4)\n",
      "../data/PLdata_iksan_wt_1399.csv: distance filtering(after):(10396, 4)\n",
      "../data/PLdata_iksan_wt_400.csv: distance filtering(before):(109210, 4)\n",
      "../data/PLdata_iksan_wt_400.csv: distance filtering(after):(10396, 4)\n",
      "          type  distance  pathloss  heightTM  season  frequency  heightTB  heightB  heightM\n",
      "type 2713    m      1.00     97.57      0.01       0       2249        30       15        2\n",
      "     2714    m      1.00    137.38      0.03       0       2249        30       15        2\n",
      "     2715    m      1.00     99.98      0.01       0       2249        30       15        2\n",
      "     2716    m      1.00    128.57      0.04       0       2249        30       15        2\n",
      "     2717    m      1.00    119.13      0.03       0       2249        30       15        2\n",
      "Combined data set: (31188, 9)\n",
      "type filtering(before):(31188, 9)\n",
      "type filtering(after):(21210, 9)\n",
      "Dataframe before add new terms: (21210, 9)\n",
      "Dataframe after add constant feature: (21210, 20)\n",
      "winter data: (21210, 20)\n",
      "\n",
      "ADD data preprocessing\n",
      "../data/PLdata_iksan_sp_400.csv: distance filtering(before):(106636, 4)\n",
      "../data/PLdata_iksan_sp_400.csv: distance filtering(after):(14371, 4)\n",
      "../data/PLdata_iksan_sp_2249.csv: distance filtering(before):(106493, 4)\n",
      "../data/PLdata_iksan_sp_2249.csv: distance filtering(after):(14371, 4)\n",
      "../data/PLdata_iksan_sp_1399.csv: distance filtering(before):(106570, 4)\n",
      "../data/PLdata_iksan_sp_1399.csv: distance filtering(after):(14371, 4)\n",
      "         type  distance  pathloss  heightTM  season  frequency  heightTB  heightB  heightM\n",
      "type 400    m      1.02    100.42      0.01    0.50        400        30       15        2\n",
      "     401    m      1.02    100.39      0.01    0.50        400        30       15        2\n",
      "     402    m      1.02    100.39      0.01    0.50        400        30       15        2\n",
      "     403    m      1.03    100.39      0.01    0.50        400        30       15        2\n",
      "     404    m      1.03    100.46      0.01    0.50        400        30       15        2\n",
      "Combined data set: (43113, 9)\n",
      "type filtering(before):(43113, 9)\n",
      "type filtering(after):(28569, 9)\n",
      "Dataframe before add new terms: (28569, 9)\n",
      "Dataframe after add constant feature: (28569, 20)\n",
      "spring data: (28569, 20)\n",
      "\n",
      "ADD data preprocessing\n",
      "../data/PLdata_iksan_sm_1399.csv: distance filtering(before):(111148, 4)\n",
      "../data/PLdata_iksan_sm_1399.csv: distance filtering(after):(12759, 4)\n",
      "../data/PLdata_iksan_sm_2249.csv: distance filtering(before):(111001, 4)\n",
      "../data/PLdata_iksan_sm_2249.csv: distance filtering(after):(12759, 4)\n",
      "../data/PLdata_iksan_sm_400.csv: distance filtering(before):(111256, 4)\n",
      "../data/PLdata_iksan_sm_400.csv: distance filtering(after):(12759, 4)\n",
      "         type  distance  pathloss  heightTM  season  frequency  heightTB  heightB  heightM\n",
      "type 352    m      1.00    102.76      0.02    1.00       1399        30       15        2\n",
      "     353    m      1.03    102.83      0.02    1.00       1399        30       15        2\n",
      "     354    m      1.03    102.84      0.02    1.00       1399        30       15        2\n",
      "     355    m      1.03    103.62      0.02    1.00       1399        30       15        2\n",
      "     356    m      1.03    102.78      0.02    1.00       1399        30       15        2\n",
      "Combined data set: (38277, 9)\n",
      "type filtering(before):(38277, 9)\n",
      "type filtering(after):(26085, 9)\n",
      "Dataframe before add new terms: (26085, 9)\n",
      "Dataframe after add constant feature: (26085, 20)\n",
      "summer data: (26085, 20)\n",
      "\n",
      "antenna_b height filtering-before(data count): (75864, 20)\n",
      "antenna_b height filtering-after(data count): (67689, 20)\n",
      "freespace pathloss filtering-before(data count): (67689, 20)\n",
      "freespace pathloss filtering-after(data count): (65354, 20)\n"
     ]
    }
   ],
   "source": [
    "%autoreload\n",
    "\n",
    "wt_fileList = {'../data/PLdata_iksan_wt_400.csv':[('season', 0), ('frequency', 400), ('heightTB',30), ('heightB',15), ('heightM',2)],\n",
    "            '../data/PLdata_iksan_wt_1399.csv':[('season', 0), ('frequency', 1399), ('heightTB',30), ('heightB',15), ('heightM',2)],\n",
    "            '../data/PLdata_iksan_wt_2249.csv':[('season', 0), ('frequency', 2249), ('heightTB',30), ('heightB',15), ('heightM',2)]}\n",
    "sp_fileList = {'../data/PLdata_iksan_sp_400.csv':[('season', 0.5), ('frequency', 400), ('heightTB',30), ('heightB',15), ('heightM',2)],\n",
    "            '../data/PLdata_iksan_sp_1399.csv':[('season', 0.5), ('frequency', 1399), ('heightTB',30), ('heightB',15), ('heightM',2)],\n",
    "            '../data/PLdata_iksan_sp_2249.csv':[('season', 0.5), ('frequency', 2249), ('heightTB',30), ('heightB',15), ('heightM',2)]}\n",
    "sm_fileList = {'../data/PLdata_iksan_sm_400.csv':[('season', 1.0), ('frequency', 400), ('heightTB',30), ('heightB',15), ('heightM',2)],\n",
    "            '../data/PLdata_iksan_sm_1399.csv':[('season', 1.0), ('frequency', 1399), ('heightTB',30), ('heightB',15), ('heightM',2)],\n",
    "            '../data/PLdata_iksan_sm_2249.csv':[('season', 1.0), ('frequency', 2249), ('heightTB',30), ('heightB',15), ('heightM',2)]}\n",
    "addWt = ADD_data_loader(wt_fileList)\n",
    "print(\"winter data:\",addWt.shape)\n",
    "print(\"\")\n",
    "addSp = ADD_data_loader(sp_fileList)\n",
    "print(\"spring data:\",addSp.shape)\n",
    "print(\"\")\n",
    "addSm = ADD_data_loader(sm_fileList)\n",
    "print(\"summer data:\",addSm.shape)\n",
    "print(\"\")\n",
    "\n",
    "# print(addIksan.describe())\n",
    "# print(addNonsan.describe())\n",
    "# print(addPaju.describe())\n",
    "\n",
    "addData = combineDF([addWt, addSp, addSm])\n",
    "print(\"antenna_b height filtering-before(data count):\",addData.shape)\n",
    "addData = filteringDF(addData, 'heightTM', [10,100])\n",
    "print(\"antenna_b height filtering-after(data count):\",addData.shape)\n",
    "\n",
    "print(\"freespace pathloss filtering-before(data count):\",addData.shape)\n",
    "addData['freePathloss'] = getFreeSpacePathLoss(addData['distance'],addData['frequency'])\n",
    "addData = addData[addData['pathloss'] >= addData['freePathloss']]\n",
    "print(\"freespace pathloss filtering-after(data count):\",addData.shape)\n",
    "\n",
    "# print(\"ADD data sample:\\n\",addData.head())"
   ]
  },
  {
   "cell_type": "code",
   "execution_count": 13,
   "metadata": {},
   "outputs": [
    {
     "name": "stdout",
     "output_type": "stream",
     "text": [
      "sample size: 65\n",
      "sampleRatio: 0.001\n",
      "Average Test Error(RMSE): 27.69225839571316\n",
      "sample size: 6601\n"
     ]
    },
    {
     "name": "stderr",
     "output_type": "stream",
     "text": [
      "/usr/local/lib/python3.5/dist-packages/IPython/core/interactiveshell.py:2880: PerformanceWarning: indexing past lexsort depth may impact performance.\n",
      "  return runner(coro)\n"
     ]
    },
    {
     "name": "stdout",
     "output_type": "stream",
     "text": [
      "sampleRatio: 0.101\n",
      "Average Test Error(RMSE): 14.312274946607792\n",
      "sample size: 13136\n",
      "sampleRatio: 0.201\n",
      "Average Test Error(RMSE): 13.979021061761955\n",
      "sample size: 19672\n",
      "sampleRatio: 0.30100000000000005\n",
      "Average Test Error(RMSE): 13.99456111415752\n",
      "sample size: 26207\n",
      "sampleRatio: 0.401\n",
      "Average Test Error(RMSE): 13.934953157613256\n",
      "sample size: 32742\n",
      "sampleRatio: 0.501\n",
      "Average Test Error(RMSE): 13.9409320763307\n",
      "sample size: 39278\n",
      "sampleRatio: 0.6010000000000001\n",
      "Average Test Error(RMSE): 13.997120975288354\n",
      "sample size: 45813\n",
      "sampleRatio: 0.7010000000000001\n",
      "Average Test Error(RMSE): 14.017102681936356\n",
      "sample size: 52349\n",
      "sampleRatio: 0.801\n",
      "Average Test Error(RMSE): 13.958796929900174\n",
      "sample size: 58884\n",
      "sampleRatio: 0.901\n",
      "Average Test Error(RMSE): 13.763468336777498\n"
     ]
    }
   ],
   "source": [
    "%autoreload\n",
    "\n",
    "targetCols = ['logDistance', 'logFrequency', 'logExtendedHeightTratio', 'season', 'pathloss']\n",
    "xCols = ['logDistance', 'logFrequency', 'logExtendedHeightTratio', 'season',]\n",
    "yCols = 'pathloss'\n",
    "scale = \"manual\"\n",
    "stat = {}\n",
    "\n",
    "sampleRange = np.arange(0.001, 1.0, 0.1)\n",
    "for sampleRatio in sampleRange:\n",
    "    rmse_sum = 0\n",
    "\n",
    "    addDataSampled = samplingData(addData[targetCols], sampleRatio, None, prFlag = False)\n",
    "    # addDataSample.sort_values(by=['logDistance'])\n",
    "    print(\"sample size:\",addDataSampled['pathloss'].count())\n",
    "    addDataNorm, normalizer = normalizeData(addDataSampled[targetCols], addDataSampled[yCols], scaler = scale, prFlag = False)\n",
    "\n",
    "    X = np.array(addDataNorm[xCols])\n",
    "    Xorigin = np.array(addData[xCols]) \n",
    "    Y = np.array(addDataSampled[yCols])\n",
    "\n",
    "    kf = KFold(n_splits=5, shuffle=True)\n",
    "    bestTestError = 0\n",
    "    bestModel = None\n",
    "    i = 1\n",
    "\n",
    "    for train_index, test_index in kf.split(X):\n",
    "        X_train, X_test = X[train_index], X[test_index]\n",
    "        y_train, y_test = Y[train_index], Y[test_index]    \n",
    "        model = ann_mlp_regression((60,), activation='logistic', optimizer='lbfgs')\n",
    "        model.fit(X_train, y_train.flatten())\n",
    "\n",
    "        pred_test = model.predict(X_test)\n",
    "\n",
    "        rmse = np.sqrt(mean_squared_error(y_test, pred_test))\n",
    "        mae = mean_absolute_error(y_test, pred_test)\n",
    "        mape = mean_absolute_percentage_error(y_test, pred_test)\n",
    "        rmse = np.sqrt(mean_squared_error(y_test, pred_test))\n",
    "        r2 = r2_score(y_test, pred_test)\n",
    "#         print(\"#\"+str(i)+\" Error(RMSE)-train:{} / test:{}\".format(trainError,testError))     \n",
    "\n",
    "        rmse_sum += rmse\n",
    "\n",
    "        i+=1\n",
    "    avgRMSE = rmse_sum / 5\n",
    "    print(\"sampleRatio:\",sampleRatio)\n",
    "#     print(\"Worst Model:\",worstModel)\n",
    "    print(\"Average Test Error(RMSE):\",avgRMSE)\n",
    "    stat[sampleRatio] = avgRMSE"
   ]
  },
  {
   "cell_type": "code",
   "execution_count": 14,
   "metadata": {},
   "outputs": [
    {
     "name": "stdout",
     "output_type": "stream",
     "text": [
      "   sampleRatio  RMSE\n",
      "3         0.00 27.69\n",
      "0         0.10 14.31\n",
      "1         0.20 13.98\n",
      "8         0.30 13.99\n",
      "4         0.40 13.93\n",
      "7         0.50 13.94\n",
      "6         0.60 14.00\n",
      "5         0.70 14.02\n",
      "2         0.80 13.96\n",
      "9         0.90 13.76\n"
     ]
    },
    {
     "data": {
      "text/plain": [
       "<matplotlib.axes._subplots.AxesSubplot at 0x7f68e4bc9f28>"
      ]
     },
     "execution_count": 14,
     "metadata": {},
     "output_type": "execute_result"
    },
    {
     "data": {
      "image/png": "[encoded data removed]",
      "text/plain": [
       "<Figure size 432x288 with 1 Axes>"
      ]
     },
     "metadata": {
      "needs_background": "light"
     },
     "output_type": "display_data"
    }
   ],
   "source": [
    "df = pd.DataFrame(list(stat.items()), columns=['sampleRatio','RMSE']).sort_values(by=['sampleRatio'])\n",
    "print(df)\n",
    "df.plot.line(x='sampleRatio', y='RMSE')"
   ]
  },
  {
   "cell_type": "code",
   "execution_count": null,
   "metadata": {},
   "outputs": [],
   "source": []
  }
 ],
 "metadata": {
  "kernelspec": {
   "display_name": "Python 3",
   "language": "python",
   "name": "python3"
  },
  "language_info": {
   "codemirror_mode": {
    "name": "ipython",
    "version": 3
   },
   "file_extension": ".py",
   "mimetype": "text/x-python",
   "name": "python",
   "nbconvert_exporter": "python",
   "pygments_lexer": "ipython3",
   "version": "3.5.3"
  }
 },
 "nbformat": 4,
 "nbformat_minor": 2
}
