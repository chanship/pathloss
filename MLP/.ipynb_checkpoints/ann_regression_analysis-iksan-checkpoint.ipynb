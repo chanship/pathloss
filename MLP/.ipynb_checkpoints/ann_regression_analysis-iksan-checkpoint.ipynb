{
 "cells": [
  {
   "cell_type": "markdown",
   "metadata": {},
   "source": [
    "# Iksan"
   ]
  },
  {
   "cell_type": "code",
   "execution_count": 1,
   "metadata": {},
   "outputs": [],
   "source": [
    "%load_ext autoreload\n",
    "%autoreload\n",
    "import numpy as np\n",
    "import pandas as pd\n",
    "import matplotlib.pyplot as plt\n",
    "import numpy as np\n",
    "import matplotlib.pyplot as plt\n",
    "from mpl_toolkits import mplot3d\n",
    "\n",
    "from sklearn.preprocessing import PolynomialFeatures\n",
    "from sklearn.linear_model import LinearRegression\n",
    "from sklearn import linear_model\n",
    "from scipy import stats\n",
    "\n",
    "from MLP.mlp_regression import mlp_regression, model_validation, mlp_prediction, mlp_prediction_error, mlp_train_graph, errorDist, mlp_train_multi_graph, mlp_train_multi_graph_comb, mlp_train_multi_3dgraph_comb\n",
    "from MLP.utils import combineArray, multiArraySort, data_loader_from_csv, data_loader_pathloss, describeData, data_loader_pathloss_with_freq\n",
    "\n",
    "pd.set_option('display.max_rows', 999)\n",
    "pd.set_option('precision', 5)"
   ]
  },
  {
   "cell_type": "markdown",
   "metadata": {},
   "source": [
    "# Iksan - Spring: 3D Analysis (Distance, Frequency - Pathloss)"
   ]
  },
  {
   "cell_type": "code",
   "execution_count": 29,
   "metadata": {},
   "outputs": [
    {
     "name": "stdout",
     "output_type": "stream",
     "text": [
      "106636\n",
      "106636\n",
      "Covariance Matrix\n",
      "            dist      ploss   height\n",
      "dist     8.66648   16.27207  0.03440\n",
      "ploss   16.27207  211.36232  0.13576\n",
      "height   0.03440    0.13576  0.00308\n",
      "--------------------------------------------------\n",
      "Preprocessing <data/PLdata_iksan_sp_400.csv>...Total 106636\n",
      "- moving type: total: 70018 (training: 56014/validation: 14004)\n",
      "- stationary type: total: 36618 (training: 29294/validation: 7324)\n",
      "===============================================================================\n",
      "106570\n",
      "106570\n",
      "Covariance Matrix\n",
      "            dist      ploss   height\n",
      "dist     8.64732   17.88385  0.03432\n",
      "ploss   17.88385  221.97054  0.16072\n",
      "height   0.03432    0.16072  0.00309\n",
      "--------------------------------------------------\n",
      "Preprocessing <data/PLdata_iksan_sp_1399.csv>...Total 106570\n",
      "- moving type: total: 69952 (training: 55961/validation: 13991)\n",
      "- stationary type: total: 36618 (training: 29294/validation: 7324)\n",
      "===============================================================================\n",
      "106493\n",
      "106493\n",
      "Covariance Matrix\n",
      "            dist      ploss   height\n",
      "dist     8.62505   15.70265  0.03422\n",
      "ploss   15.70265  173.73885  0.13240\n",
      "height   0.03422    0.13240  0.00309\n",
      "--------------------------------------------------\n",
      "Preprocessing <data/PLdata_iksan_sp_2249.csv>...Total 106493\n",
      "- moving type: total: 69875 (training: 55900/validation: 13975)\n",
      "- stationary type: total: 36618 (training: 29294/validation: 7324)\n",
      "===============================================================================\n"
     ]
    },
    {
     "data": {
      "text/plain": [
       "array([[1.23352068, 2.60205999],\n",
       "       [1.25190944, 2.60205999],\n",
       "       [1.25261794, 2.60205999],\n",
       "       ...,\n",
       "       [4.12830967, 2.60205999],\n",
       "       [4.1440167 , 2.60205999],\n",
       "       [4.15144995, 2.60205999]])"
      ]
     },
     "execution_count": 29,
     "metadata": {},
     "output_type": "execute_result"
    }
   ],
   "source": [
    "%autoreload\n",
    "X_train_m_400, X_val_m_400, y_train_m_400, y_val_m_400, X_train_s_400, X_val_s_400, y_train_s_400, y_val_s_400 = data_loader_from_csv('data/PLdata_iksan_sp_400.csv', np.log10(400), 'dist' ,100)\n",
    "X_train_m_1399, X_val_m_1399, y_train_m_1399, y_val_m_1399, X_train_s_1399, X_val_s_1399, y_train_s_1399, y_val_s_1399 = data_loader_from_csv('data/PLdata_iksan_sp_1399.csv', np.log10(1399),'dist', 100)\n",
    "X_train_m_2249, X_val_m_2249, y_train_m_2249, y_val_m_2249, X_train_s_2249, X_val_s_2249, y_train_s_2249, y_val_s_2249 = data_loader_from_csv('data/PLdata_iksan_sp_2249.csv', np.log10(2249),'dist', 100)\n",
    "\n",
    "X_train_m = combineArray(X_train_m_400, X_train_m_1399, X_train_m_2249)\n",
    "y_train_m = combineArray(y_train_m_400, y_train_m_1399, y_train_m_2249)\n",
    "X_val_m = combineArray(X_val_m_400, X_val_m_1399, X_val_m_2249)\n",
    "y_val_m = combineArray(y_val_m_400, y_val_m_1399, y_val_m_2249)\n",
    "\n",
    "X_train_s = combineArray(X_train_s_400, X_train_s_1399, X_train_s_2249)\n",
    "y_train_s = combineArray(y_train_s_400, y_train_s_1399, y_train_s_2249)\n",
    "X_val_s = combineArray(X_val_s_400, X_val_s_1399, X_val_s_2249)\n",
    "y_val_s = combineArray(y_val_s_400, y_val_s_1399, y_val_s_2249)\n",
    "\n",
    "X_train_m_400"
   ]
  },
  {
   "cell_type": "code",
   "execution_count": 30,
   "metadata": {},
   "outputs": [],
   "source": [
    "%autoreload\n",
    "dataX_m = list()\n",
    "dataY_m = list()\n",
    "dataX_m.append(X_train_m_400)\n",
    "dataY_m.append(y_train_m_400)\n",
    "dataX_m.append(X_train_m_1399)\n",
    "dataY_m.append(y_train_m_1399)\n",
    "dataX_m.append(X_train_m_2249)\n",
    "dataY_m.append(y_train_m_2249)"
   ]
  },
  {
   "cell_type": "code",
   "execution_count": null,
   "metadata": {},
   "outputs": [],
   "source": [
    "%autoreload\n",
    "model = None\n",
    "model = mlp_regression(X_train_m, y_train_m, (60, 60, 60, 60, 60), 'logistic', 'lbfgs')\n",
    "\n",
    "print(\"<Iksan - Spring> Sigmoid Logistic (No filtering)\")\n",
    "mlp_train_multi_3dgraph_comb(model, dataX_m, dataY_m, X_train_m, ['0.4', '1.399','2.249'])\n",
    "\n",
    "print(model.loss_)\n",
    "print(model.n_iter_ )\n",
    "print(model.n_layers_)\n",
    "print(model.n_outputs_)\n",
    "stat = np.array([mlp_prediction_error(model,X_train_m_400, y_train_m_400),mlp_prediction_error(model,X_val_m_400, y_val_m_400),\n",
    "                 mlp_prediction_error(model,X_train_m_1399, y_train_m_1399),mlp_prediction_error(model,X_val_m_1399, y_val_m_1399),\n",
    "                 mlp_prediction_error(model,X_train_m_2249, y_train_m_2249),mlp_prediction_error(model,X_val_m_2249, y_val_m_2249),\n",
    "                 mlp_prediction_error(model,X_train_m, y_train_m), mlp_prediction_error(model,X_val_m, y_val_m)])\n",
    "\n",
    "(pd.DataFrame(stat.reshape((4,2)),index=pd.Index(['0.4Ghz','1.399Ghz','2.249Ghz', 'Overall']), columns=pd.Index(['train error','val error'],name='RMSE(dB)')))"
   ]
  },
  {
   "cell_type": "code",
   "execution_count": null,
   "metadata": {},
   "outputs": [],
   "source": [
    "%autoreload\n",
    "model = None\n",
    "model = mlp_regression(X_train_m, y_train_m, (60), 'relu', 'lbfgs')\n",
    "\n",
    "print(\"<Iksan - Spring> Relu (No filtering)\")\n",
    "mlp_train_multi_3dgraph_comb(model, dataX_m, dataY_m, X_train_m, ['0.4', '1.399','2.249'])\n",
    "\n",
    "print(model.loss_)\n",
    "print(model.n_iter_ )\n",
    "print(model.n_layers_)\n",
    "print(model.n_outputs_)\n",
    "stat = np.array([mlp_prediction_error(model,X_train_m_400, y_train_m_400),mlp_prediction_error(model,X_val_m_400, y_val_m_400),\n",
    "                 mlp_prediction_error(model,X_train_m_1399, y_train_m_1399),mlp_prediction_error(model,X_val_m_1399, y_val_m_1399),\n",
    "                 mlp_prediction_error(model,X_train_m_2249, y_train_m_2249),mlp_prediction_error(model,X_val_m_2249, y_val_m_2249),\n",
    "                 mlp_prediction_error(model,X_train_m, y_train_m), mlp_prediction_error(model,X_val_m, y_val_m)])\n",
    "\n",
    "(pd.DataFrame(stat.reshape((4,2)),index=pd.Index(['0.4Ghz','1.399Ghz','2.249Ghz', 'Overall']), columns=pd.Index(['train error','val error'],name='RMSE(dB)')))"
   ]
  },
  {
   "cell_type": "markdown",
   "metadata": {},
   "source": [
    "# Summer: Distance - Pathloss"
   ]
  },
  {
   "cell_type": "code",
   "execution_count": 38,
   "metadata": {},
   "outputs": [
    {
     "name": "stdout",
     "output_type": "stream",
     "text": [
      "Covariance Matrix\n",
      "            dist      ploss   height\n",
      "dist     7.86570   24.57416  0.09756\n",
      "ploss   24.57416  189.70996  0.12330\n",
      "height   0.09756    0.12330  0.02935\n",
      "--------------------------------------------------\n",
      "Preprocessing <data/PLdata_iksan_sm_400.csv>...Total 111256\n",
      "- moving type: total: 84694 (training: 67755/validation: 16939)\n",
      "- stationary type: total: 26562 (training: 21249/validation: 5313)\n",
      "===============================================================================\n",
      "Covariance Matrix\n",
      "            dist      ploss   height\n",
      "dist     7.84671   26.42567  0.09750\n",
      "ploss   26.42567  209.69742  0.13568\n",
      "height   0.09750    0.13568  0.02938\n",
      "--------------------------------------------------\n",
      "Preprocessing <data/PLdata_iksan_sm_1399.csv>...Total 111148\n",
      "- moving type: total: 84586 (training: 67668/validation: 16918)\n",
      "- stationary type: total: 26562 (training: 21249/validation: 5313)\n",
      "===============================================================================\n",
      "Covariance Matrix\n",
      "            dist      ploss   height\n",
      "dist     7.82201   23.94839  0.09741\n",
      "ploss   23.94839  184.77645  0.10438\n",
      "height   0.09741    0.10438  0.02942\n",
      "--------------------------------------------------\n",
      "Preprocessing <data/PLdata_iksan_sm_2249.csv>...Total 111001\n",
      "- moving type: total: 84439 (training: 67551/validation: 16888)\n",
      "- stationary type: total: 26562 (training: 21249/validation: 5313)\n",
      "===============================================================================\n"
     ]
    }
   ],
   "source": [
    "%autoreload\n",
    "X_train_m_400, X_val_m_400, y_train_m_400, y_val_m_400, X_train_s_400, X_val_s_400, y_train_s_400, y_val_s_400 = data_loader_from_csv('data/PLdata_iksan_sm_400.csv', 400, 'dist')\n",
    "X_train_m_1399, X_val_m_1399, y_train_m_1399, y_val_m_1399, X_train_s_1399, X_val_s_1399, y_train_s_1399, y_val_s_1399 = data_loader_from_csv('data/PLdata_iksan_sm_1399.csv', 1399,'dist')\n",
    "X_train_m_2249, X_val_m_2249, y_train_m_2249, y_val_m_2249, X_train_s_2249, X_val_s_2249, y_train_s_2249, y_val_s_2249 = data_loader_from_csv('data/PLdata_iksan_sm_2249.csv', 2249,'dist')\n",
    "\n",
    "X_train_m = combineArray(X_train_m_400, X_train_m_1399, X_train_m_2249)\n",
    "y_train_m = combineArray(y_train_m_400, y_train_m_1399, y_train_m_2249)\n",
    "X_val_m = combineArray(X_val_m_400, X_val_m_1399, X_val_m_2249)\n",
    "y_val_m = combineArray(y_val_m_400, y_val_m_1399, y_val_m_2249)\n",
    "\n",
    "X_train_s = combineArray(X_train_s_400, X_train_s_1399, X_train_s_2249)\n",
    "y_train_s = combineArray(y_train_s_400, y_train_s_1399, y_train_s_2249)\n",
    "X_val_s = combineArray(X_val_s_400, X_val_s_1399, X_val_s_2249)\n",
    "y_val_s = combineArray(y_val_s_400, y_val_s_1399, y_val_s_2249)"
   ]
  },
  {
   "cell_type": "markdown",
   "metadata": {},
   "source": [
    "# Winter: Distance-Pathloss"
   ]
  },
  {
   "cell_type": "code",
   "execution_count": 40,
   "metadata": {},
   "outputs": [
    {
     "name": "stdout",
     "output_type": "stream",
     "text": [
      "Covariance Matrix\n",
      "            dist      ploss   height\n",
      "dist     7.01744   25.13772  0.05736\n",
      "ploss   25.13772  215.56772  0.14743\n",
      "height   0.05736    0.14743  0.05251\n",
      "--------------------------------------------------\n",
      "Preprocessing <data/PLdata_iksan_wt_400.csv>...Total 109210\n",
      "- moving type: total: 83665 (training: 66932/validation: 16733)\n",
      "- stationary type: total: 25545 (training: 20436/validation: 5109)\n",
      "===============================================================================\n",
      "Covariance Matrix\n",
      "            dist      ploss   height\n",
      "dist     7.00404   27.66887  0.05728\n",
      "ploss   27.66887  265.50318  0.21129\n",
      "height   0.05728    0.21129  0.05258\n",
      "--------------------------------------------------\n",
      "Preprocessing <data/PLdata_iksan_wt_1399.csv>...Total 109060\n",
      "- moving type: total: 83515 (training: 66812/validation: 16703)\n",
      "- stationary type: total: 25545 (training: 20436/validation: 5109)\n",
      "===============================================================================\n",
      "Covariance Matrix\n",
      "            dist      ploss   height\n",
      "dist     6.98968   27.24687  0.05721\n",
      "ploss   27.24687  256.56197  0.15985\n",
      "height   0.05721    0.15985  0.05267\n",
      "--------------------------------------------------\n",
      "Preprocessing <data/PLdata_iksan_wt_2249.csv>...Total 108873\n",
      "- moving type: total: 83328 (training: 66662/validation: 16666)\n",
      "- stationary type: total: 25545 (training: 20436/validation: 5109)\n",
      "===============================================================================\n"
     ]
    }
   ],
   "source": [
    "%autoreload\n",
    "X_train_m_400, X_val_m_400, y_train_m_400, y_val_m_400, X_train_s_400, X_val_s_400, y_train_s_400, y_val_s_400 = data_loader_from_csv('data/PLdata_iksan_wt_400.csv', 400, 'dist')\n",
    "X_train_m_1399, X_val_m_1399, y_train_m_1399, y_val_m_1399, X_train_s_1399, X_val_s_1399, y_train_s_1399, y_val_s_1399 = data_loader_from_csv('data/PLdata_iksan_wt_1399.csv', 1399,'dist')\n",
    "X_train_m_2249, X_val_m_2249, y_train_m_2249, y_val_m_2249, X_train_s_2249, X_val_s_2249, y_train_s_2249, y_val_s_2249 = data_loader_from_csv('data/PLdata_iksan_wt_2249.csv', 2249,'dist')\n",
    "\n",
    "X_train_m = combineArray(X_train_m_400, X_train_m_1399, X_train_m_2249)\n",
    "y_train_m = combineArray(y_train_m_400, y_train_m_1399, y_train_m_2249)\n",
    "X_val_m = combineArray(X_val_m_400, X_val_m_1399, X_val_m_2249)\n",
    "y_val_m = combineArray(y_val_m_400, y_val_m_1399, y_val_m_2249)\n",
    "\n",
    "X_train_s = combineArray(X_train_s_400, X_train_s_1399, X_train_s_2249)\n",
    "y_train_s = combineArray(y_train_s_400, y_train_s_1399, y_train_s_2249)\n",
    "X_val_s = combineArray(X_val_s_400, X_val_s_1399, X_val_s_2249)\n",
    "y_val_s = combineArray(y_val_s_400, y_val_s_1399, y_val_s_2249)"
   ]
  }
 ],
 "metadata": {
  "kernelspec": {
   "display_name": "Python 3",
   "language": "python",
   "name": "python3"
  },
  "language_info": {
   "codemirror_mode": {
    "name": "ipython",
    "version": 3
   },
   "file_extension": ".py",
   "mimetype": "text/x-python",
   "name": "python",
   "nbconvert_exporter": "python",
   "pygments_lexer": "ipython3",
   "version": "3.5.3"
  }
 },
 "nbformat": 4,
 "nbformat_minor": 2
}
